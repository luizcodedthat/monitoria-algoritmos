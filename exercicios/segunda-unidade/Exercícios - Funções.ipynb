{
  "cells": [
    {
      "cell_type": "markdown",
      "metadata": {
        "id": "view-in-github",
        "colab_type": "text"
      },
      "source": [
        "<a href=\"https://colab.research.google.com/github/luizcodedthat/monitoria-algoritmos/blob/main/exercicios/segunda-unidade/Exerc%C3%ADcios%20-%20Fun%C3%A7%C3%B5es.ipynb\" target=\"_parent\"><img src=\"https://colab.research.google.com/assets/colab-badge.svg\" alt=\"Open In Colab\"/></a>"
      ]
    },
    {
      "cell_type": "markdown",
      "id": "luVBWG0itjZR",
      "metadata": {
        "id": "luVBWG0itjZR"
      },
      "source": [
        "## 🧠 Revisão de Funções\n",
        "\n",
        "Funções são blocos de código reutilizáveis que executam uma tarefa específica. Elas ajudam a organizar o programa, evitar repetição e facilitar a manutenção do código."
      ]
    },
    {
      "cell_type": "markdown",
      "id": "oml7QoehupzI",
      "metadata": {
        "id": "oml7QoehupzI"
      },
      "source": [
        "### 🧱 Estrutura básica de uma função\n",
        "\n",
        "```python\n",
        "def nome_da_funcao(parametros_opcionais):\n",
        "    # bloco de código\n",
        "    return valor_opcional\n",
        "```\n",
        "\n",
        "- `def` é a palavra-chave usada para definir uma função;\n",
        "- `nome_da_funcao` é o nome que você escolhe para a função;\n",
        "- Os `parâmetros` são valores que você pode passar para a função usar;\n",
        "- `return` serve para devolver um valor (opcional). Uma função sem return retorna None.\n",
        "\n",
        "### 🧪 Exemplo simples\n",
        "\n",
        "```python\n",
        "def saudacao(nome):\n",
        "    return f\"Olá, {nome}!\"\n",
        "```\n",
        "\n",
        "### 📞 Chamando (executando) uma função\n",
        "Para executar uma função, basta chamar seu nome e passar os argumentos esperados:\n",
        "\n",
        "```python\n",
        "mensagem = saudacao(\"Ana\")\n",
        "print(mensagem)  # Saída: Olá, Ana!\n",
        "```\n",
        "\n",
        "Ok, agora mão na massa!"
      ]
    },
    {
      "cell_type": "markdown",
      "id": "ddcef9fd",
      "metadata": {
        "id": "ddcef9fd"
      },
      "source": [
        "# Lista de Exercícios: Funções em Python\n",
        "Questões que abordam funções e conceitos fundamentais de programação em Python. Olhe as dicas somente quando realmente precisar."
      ]
    },
    {
      "cell_type": "markdown",
      "id": "KVhn9KyyutQH",
      "metadata": {
        "id": "KVhn9KyyutQH"
      },
      "source": [
        "# Exercícios"
      ]
    },
    {
      "cell_type": "markdown",
      "id": "ae7062bb",
      "metadata": {
        "id": "ae7062bb"
      },
      "source": [
        "### 1. Escreva uma função que imprima 'Olá, mundo!'.\n",
        "<details><summary>💡 Dica</summary>\n",
        "<p>Revise a sintaxe de uma função na revisão anterior</p>\n",
        "</details>"
      ]
    },
    {
      "cell_type": "code",
      "execution_count": null,
      "id": "db5c57be",
      "metadata": {
        "id": "db5c57be"
      },
      "outputs": [],
      "source": []
    },
    {
      "cell_type": "markdown",
      "id": "16d63ec9",
      "metadata": {
        "id": "16d63ec9"
      },
      "source": [
        "### 2. Escreva uma função que receba um número como parâmetro e retorne o dobro dele.\n",
        "\n",
        "Ex.:\n",
        "- A função recebe o número 3;\n",
        "- O retorno da função é 6.\n",
        "\n",
        "<details><summary>💡 Dica</summary>\n",
        "<p>Use `return` para devolver o valor ao final da função.</p>\n",
        "</details>"
      ]
    },
    {
      "cell_type": "code",
      "execution_count": null,
      "id": "9367e0d2",
      "metadata": {
        "id": "9367e0d2"
      },
      "outputs": [],
      "source": []
    },
    {
      "cell_type": "markdown",
      "id": "3c44b11d",
      "metadata": {
        "id": "3c44b11d"
      },
      "source": [
        "### 3. Escreva uma função que receba dois números e retorne a soma.\n",
        "\n",
        "Ex.:\n",
        "- A função recebe os números 8 e 16;\n",
        "- O retorno da função é 24.\n",
        "\n",
        "<details><summary>💡 Dica</summary>\n",
        "<p>Você pode usar parâmetros separados por vírgula.</p>\n",
        "</details>"
      ]
    },
    {
      "cell_type": "code",
      "execution_count": null,
      "id": "4dfe5b65",
      "metadata": {
        "id": "4dfe5b65"
      },
      "outputs": [],
      "source": []
    },
    {
      "cell_type": "markdown",
      "id": "85b64e12",
      "metadata": {
        "id": "85b64e12"
      },
      "source": [
        "### 4. Escreva uma função que receba um nome e imprima uma saudação personalizada usando f-string.\n",
        "\n",
        "Ex.:\n",
        "\n",
        "- A função recebe o nome \"Jeremias\";\n",
        "- Aparece no terminal: \"Olá, Jeremias! Como vai?\""
      ]
    },
    {
      "cell_type": "code",
      "execution_count": null,
      "id": "b3b5df51",
      "metadata": {
        "id": "b3b5df51"
      },
      "outputs": [],
      "source": []
    },
    {
      "cell_type": "markdown",
      "id": "16f50f1a",
      "metadata": {
        "id": "16f50f1a"
      },
      "source": [
        "### 5. Escreva uma função que receba um número e retorne se ele é par ou ímpar.\n",
        "\n",
        "Ex.:\n",
        "- A função recebe o número 5;\n",
        "- O retorno da função é \"Ímpar\".\n",
        "\n",
        "<details><summary>💡 Dica</summary>\n",
        "<p>Use o operador `%` para verificar o resto da divisão.</p>\n",
        "</details>"
      ]
    },
    {
      "cell_type": "code",
      "execution_count": null,
      "id": "4ce0b83b",
      "metadata": {
        "id": "4ce0b83b"
      },
      "outputs": [],
      "source": []
    },
    {
      "cell_type": "markdown",
      "id": "9755aae9",
      "metadata": {
        "id": "9755aae9"
      },
      "source": [
        "### 6. Escreva uma função que receba uma lista de números e retorne o maior valor.\n",
        "\n",
        "Ex.:\n",
        "- A função recebe a lista [1, 2, 3];\n",
        "- O retorno da função é 3.\n",
        "\n",
        "<details><summary>💡 Dica</summary>\n",
        "<p>Use um laço `for` para percorrer a lista e uma variável auxiliar para guardar o maior valor.</p>\n",
        "</details>"
      ]
    },
    {
      "cell_type": "code",
      "execution_count": null,
      "id": "8e20d15e",
      "metadata": {
        "id": "8e20d15e"
      },
      "outputs": [],
      "source": []
    },
    {
      "cell_type": "markdown",
      "id": "2f45d9f1",
      "metadata": {
        "id": "2f45d9f1"
      },
      "source": [
        "### 7. Escreva uma função que calcule a média de uma lista de números.\n",
        "<details><summary>💡 Dica</summary>\n",
        "<p>Some todos os elementos e divida pela quantidade.</p>\n",
        "</details>"
      ]
    },
    {
      "cell_type": "code",
      "execution_count": null,
      "id": "a240d9f0",
      "metadata": {
        "id": "a240d9f0"
      },
      "outputs": [],
      "source": []
    },
    {
      "cell_type": "markdown",
      "id": "7cdd8b15",
      "metadata": {
        "id": "7cdd8b15"
      },
      "source": [
        "### 8. Escreva uma função que retorne o fatorial de um número (use laço `for`).\n",
        "<details><summary>💡 Dica</summary>\n",
        "<p>O fatorial de 5 é 5×4×3×2×1.</p>\n",
        "</details>"
      ]
    },
    {
      "cell_type": "code",
      "execution_count": null,
      "id": "8b6b0bf3",
      "metadata": {
        "id": "8b6b0bf3"
      },
      "outputs": [],
      "source": []
    },
    {
      "cell_type": "markdown",
      "id": "9ce550b5",
      "metadata": {
        "id": "9ce550b5"
      },
      "source": [
        "### 9. Escreva uma função que verifique se uma palavra é um palíndromo.\n",
        "Um palíndromo é uma palavra ou texto que se lê da mesma forma de frente para trás e de trás para frente.\n",
        "\n",
        "Ex.:\n",
        "\n",
        "- A função recebe a palavra \"Radar\";\n",
        "- A função retorna `True`.\n",
        "\n",
        "**Desafio Extra**: Tente fazer funcionar com frases!\n",
        "\n",
        "<details><summary>💡 Dica</summary>\n",
        "<p>Compare a string com ela mesma invertida: `texto[::-1]`.</p>\n",
        "</details>"
      ]
    },
    {
      "cell_type": "code",
      "execution_count": null,
      "id": "9958d1b3",
      "metadata": {
        "id": "9958d1b3"
      },
      "outputs": [],
      "source": []
    },
    {
      "cell_type": "markdown",
      "id": "e4d217b2",
      "metadata": {
        "id": "e4d217b2"
      },
      "source": [
        "### 10. Escreva uma função que receba uma lista de números e retorne uma nova lista com apenas os pares.\n",
        "\n",
        "Ex.:\n",
        "\n",
        "- A função recebe a lista [2, 3, 4, 5, 6, 7];\n",
        "- A função retorna [2, 4, 6].\n",
        "\n",
        "<details><summary>💡 Dica</summary>\n",
        "<p>Use `append` e o operador `%`.</p>\n",
        "</details>"
      ]
    },
    {
      "cell_type": "code",
      "execution_count": null,
      "id": "fe601c47",
      "metadata": {
        "id": "fe601c47"
      },
      "outputs": [],
      "source": []
    },
    {
      "cell_type": "markdown",
      "id": "bc090443",
      "metadata": {
        "id": "bc090443"
      },
      "source": [
        "### 11. Escreva uma função que leia números até que o usuário digite -1 e retorne a média dos números lidos.\n",
        "<details><summary>💡 Dica</summary>\n",
        "<p>Use `while` e acumule os valores.</p>\n",
        "</details>"
      ]
    },
    {
      "cell_type": "code",
      "execution_count": null,
      "id": "a1d32c66",
      "metadata": {
        "id": "a1d32c66"
      },
      "outputs": [],
      "source": []
    },
    {
      "cell_type": "markdown",
      "id": "6407d3db",
      "metadata": {
        "id": "6407d3db"
      },
      "source": [
        "### 12. Escreva uma função que receba uma temperatura em Celsius e retorne a equivalente em Fahrenheit.\n",
        "\n",
        "Ex.:\n",
        "\n",
        "- A função recebe 10;\n",
        "- A função retorna 50.\n",
        "\n",
        "<details><summary>💡 Dica</summary>\n",
        "<p>Use a fórmula: F = C * 1.8 + 32</p>\n",
        "</details>"
      ]
    },
    {
      "cell_type": "code",
      "execution_count": null,
      "id": "2ddc1d59",
      "metadata": {
        "id": "2ddc1d59"
      },
      "outputs": [],
      "source": []
    },
    {
      "cell_type": "markdown",
      "id": "8fbe8a2a",
      "metadata": {
        "id": "8fbe8a2a"
      },
      "source": [
        "### 13. Escreva uma função que receba uma lista de nomes e uma letra, e retorne uma nova lista contendo apenas os nomes que começam com essa letra.\n",
        "\n",
        "Ex.:\n",
        "\n",
        "- A função recebe a lista `[\"Marcos\", \"Lucas\", \"João\", \"Leandro\"]` e a letra `\"L\"`;\n",
        "- A função retorna `[\"Lucas\", \"Leandro\"]`.\n",
        "\n",
        "<details><summary>💡 Dica</summary>\n",
        "<p>Percorra a lista de nomes com `for` e verifique com `if`se o nome começa com a letra informada, se sim, adicione na nova lista.</p>\n",
        "</details>"
      ]
    },
    {
      "cell_type": "code",
      "execution_count": null,
      "id": "67851c42",
      "metadata": {
        "id": "67851c42"
      },
      "outputs": [],
      "source": []
    },
    {
      "cell_type": "markdown",
      "id": "Pp3mmD8mNSiM",
      "metadata": {
        "id": "Pp3mmD8mNSiM"
      },
      "source": [
        "### 14. Verificar se todos os números de uma lista são positivos\n",
        "Escreva a função `todos_positivos(lista)` que retorna `True` se todos os elementos da lista forem maiores que zero; caso contrário, retorna `False`.\n",
        "<details> <summary>💡 Dica</summary> Use um `for` com `if num <= 0:` seguido de `return False`. Se nenhum número for negativo, retorne `True` no final. </details>"
      ]
    },
    {
      "cell_type": "code",
      "source": [],
      "metadata": {
        "id": "dgegAveGZUJk"
      },
      "id": "dgegAveGZUJk",
      "execution_count": null,
      "outputs": []
    },
    {
      "cell_type": "markdown",
      "id": "PO8vNn47Nw-e",
      "metadata": {
        "id": "PO8vNn47Nw-e"
      },
      "source": [
        "### 15. Contar vogais em uma string\n",
        "\n",
        "Implemente a função `contar_vogais(texto)` que recebe uma string `texto` e retorna o número total de vogais (a, e, i, o, u) presentes na string.\n",
        "A contagem deve ser case-insensitive (ou seja, deve considerar tanto letras maiúsculas quanto minúsculas).\n",
        "\n",
        "<details> <summary>💡 Dica</summary> Converta a string para minúsculas com `texto.lower()` e percorra os caracteres usando um `for`. Verifique se cada letra está em \"aeiou\" e conte com uma variável acumuladora. </details>"
      ]
    },
    {
      "cell_type": "markdown",
      "id": "3ad70227",
      "metadata": {
        "id": "3ad70227"
      },
      "source": [
        "### 16. Escreva uma função que calcule a média ponderada de três notas (pesos: 5, 3 e 2).\n",
        "<details><summary>💡 Dica</summary>\n",
        "<p>Multiplique cada nota pelo peso e divida pela soma dos pesos.</p>\n",
        "</details>"
      ]
    },
    {
      "cell_type": "code",
      "execution_count": null,
      "id": "56052f09",
      "metadata": {
        "id": "56052f09"
      },
      "outputs": [],
      "source": []
    },
    {
      "cell_type": "markdown",
      "id": "onBW98VhLagL",
      "metadata": {
        "id": "onBW98VhLagL"
      },
      "source": [
        "### 17. Escreva uma função que receba uma string e substitua todos os espaços por underline.\n",
        "\n",
        "<details><summary>💡 Dica</summary>\n",
        "<p>Percorra a string original com `for` e adicione caractere por caractere em uma nova string, trocando espaços por underline.</p>\n",
        "</details>\n",
        "\n"
      ]
    },
    {
      "cell_type": "code",
      "execution_count": null,
      "id": "0P5p17flLkie",
      "metadata": {
        "id": "0P5p17flLkie"
      },
      "outputs": [],
      "source": []
    },
    {
      "cell_type": "markdown",
      "id": "76c478f2",
      "metadata": {
        "id": "76c478f2"
      },
      "source": [
        "### 19. Escreva uma função que receba um número e retorne se ele é primo.\n",
        "\n",
        "Um número primo tem apenas dois divisores: 1 e ele mesmo.\n",
        "\n",
        "<details><summary>💡 Dica</summary>\n",
        "<p>Divida, dentro de um `for`, o número por todos os seus antecessores, se o número for divisível por qualquer um deles (excluindo 1), não é primo.</p>\n",
        "</details>"
      ]
    },
    {
      "cell_type": "code",
      "execution_count": null,
      "id": "abee7911",
      "metadata": {
        "id": "abee7911"
      },
      "outputs": [],
      "source": []
    },
    {
      "cell_type": "markdown",
      "id": "3d0084a4",
      "metadata": {
        "id": "3d0084a4"
      },
      "source": [
        "### 19. Escreva uma função que receba uma lista de notas e retorne quantas são maiores ou iguais a 7.\n",
        "\n",
        "Ex.:\n",
        "\n",
        "- A função recebe [2, 3, 4, 5, 7, 9, 9.5];\n",
        "- A função retorna 3.\n",
        "\n",
        "<details><summary>💡 Dica</summary>\n",
        "<p>Use `for` e `if`.</p>\n",
        "</details>"
      ]
    },
    {
      "cell_type": "code",
      "execution_count": null,
      "id": "c4aba1ad",
      "metadata": {
        "id": "c4aba1ad"
      },
      "outputs": [],
      "source": []
    },
    {
      "cell_type": "markdown",
      "source": [
        "### 20. Cálculo de Conta de Energia Elétrica ⚡\n",
        "\n",
        "Crie um programa em Python que:\n",
        "\n",
        "**1.** Solicite ao usuário o consumo de energia em kWh (quilowatt-hora).\n",
        "\n",
        "**2.** Use uma função calcular_conta(consumo) para retornar o valor da conta, com base na seguinte tabela de tarifas:\n",
        "\n",
        "| Faixa de Consumo (kWh) | Tarifa (R\\$/kWh) |\n",
        "| ---------------------- | ---------------- |\n",
        "| Até 100                | 0.50             |\n",
        "| De 101 a 200           | 0.70             |\n",
        "| Acima de 200           | 0.87             |\n",
        "\n",
        "A função deve aplicar apenas uma tarifa de acordo com o consumo total.\n",
        "\n",
        "Exemplo:\n",
        "- A função recebe um consumo de 150;\n",
        "- A tarifa aplicada é de `R$0,70`;\n",
        "- A função retorna o total: `R$105,00`.\n",
        "\n",
        "O programa deve mostrar a saída com a fatura formatada (use f-string), por exemplo:\n",
        "\n",
        "```yaml\n",
        "Consumo: 150 kWh\n",
        "Tarifa aplicada: R$ 0.70\n",
        "Total a pagar: R$ 105.00\n",
        "```\n",
        "\n",
        "<details> <summary>🔧 Desafio</summary> <p> <strong> Adicione uma bandeira tarifária </strong> </p> <p> Se o consumo for acima de 200, aplique uma taxa extra de R$10,00 na conta. </p> </details>\n",
        "\n",
        "<details> <summary>💡 Dica</summary> Use `if`, `elif`, `else` dentro da função `calcular_conta()` para definir a tarifa de acordo com o consumo. </details>"
      ],
      "metadata": {
        "id": "CU5RgZRDTez5"
      },
      "id": "CU5RgZRDTez5"
    },
    {
      "cell_type": "markdown",
      "source": [
        "### 21. Cálculo de IMC com Classificação 🧍‍♂️🧍‍♀️\n",
        "\n",
        "Crie um programa em Python que:\n",
        "\n",
        "1. Peça ao usuário o peso (em kg) e a altura (em metros).\n",
        "\n",
        "2. Use uma função chamada calcular_imc(peso, altura) que calcule e retorne o IMC usando a fórmula: IMC = peso / altura²\n",
        "\n",
        "3. O programa deve, com base no valor do IMC, exibir a classificação do usuário, com base na seguinte tabela:\n",
        "\n",
        "| Faixa de IMC   | Classificação   |\n",
        "| -------------- | --------------- |\n",
        "| Menor que 18.5 | Abaixo do peso  |\n",
        "| De 18.5 a 24.9 | Peso normal     |\n",
        "| De 25.0 a 29.9 | Sobrepeso       |\n",
        "| De 30.0 a 39.9 | Obesidade       |\n",
        "| 40.0 ou mais   | Obesidade grave |\n",
        "\n",
        "4. Exiba o resultado final formatado com f-string, por exemplo:\n",
        "\n",
        "```\n",
        "Seu IMC é 27.43\n",
        "Classificação: Sobrepeso\n",
        "```\n",
        "\n",
        "<details> <summary>💡 Dica</summary> Você pode formatar um IMC com muitas casas decimais direto na string com `f\"{imc:.2f}\"`. Use `if/elif/else` para fazer a classificação. </details>"
      ],
      "metadata": {
        "id": "jsj-lpcbWFUQ"
      },
      "id": "jsj-lpcbWFUQ"
    },
    {
      "cell_type": "code",
      "source": [],
      "metadata": {
        "id": "JbHBpxfIUomn"
      },
      "id": "JbHBpxfIUomn",
      "execution_count": null,
      "outputs": []
    },
    {
      "cell_type": "markdown",
      "source": [
        "### 22. Sistema de Utilidades Pessoais — Menu Interativo 🧰\n",
        "\n",
        "Implemente um programa com menu interativo, que oferece ao usuário diferentes funcionalidades úteis.\n",
        "O menu deve conter:\n",
        "\n",
        "```\n",
        "=== MENU DE OPÇÕES ===\n",
        "1 - Calcular IMC\n",
        "2 - Calcular valor da conta de energia\n",
        "3 - Contar vogais em uma frase\n",
        "4 - Sair\n",
        "```\n",
        "\n",
        "Descrição de cada opção:\n",
        "\n",
        "1. **Calcular IMC**\n",
        "\n",
        "- Solicite peso e altura do usuário;\n",
        "- Chame a função calcular_imc(peso, altura);\n",
        "- Mostre o IMC formatado com duas casas decimais;\n",
        "- Exiba a classificação de acordo com a faixa.\n",
        "\n",
        "2. **Calcular conta de energia**\n",
        "\n",
        "- Peça o consumo em kWh;\n",
        "- Chame a função calcular_conta(consumo);\n",
        "- Mostre no terminal o consumo e a conta de energia, formatados.\n",
        "\n",
        "3. **Contar vogais**\n",
        "\n",
        "- Solicite uma frase do usuário;\n",
        "- Use a função contar_vogais(frase) que retorna o total de vogais na string;\n",
        "- Mostre no terminal a mensagem formata, exemplo:\n",
        "```yaml\n",
        "A frase \"Ola, Mundo!\" possui 4 vogais!\n",
        "```\n",
        "\n",
        "4. **Sair**\n",
        "\n",
        "- Finaliza o programa com uma mensagem de despedida.\n",
        "\n",
        "**Regras:**\n",
        "\n",
        "- O menu deve funcionar até o usuário escolher a opção 4;\n",
        "- Use as funções que você já criou nas outras questões;\n",
        "- Use `while True` para manter o menu em execução.\n",
        "\n",
        "<details> <summary>💡 Dica</summary> Use um `while` com `input()` para ler a opção, e `if/elif/else` para tratá-las. Considere criar uma função `menu()` para exibir as opções no terminal. </details>"
      ],
      "metadata": {
        "id": "hWSN5-1FWxXf"
      },
      "id": "hWSN5-1FWxXf"
    },
    {
      "cell_type": "code",
      "source": [],
      "metadata": {
        "id": "2Geq0s_xYtIz"
      },
      "id": "2Geq0s_xYtIz",
      "execution_count": null,
      "outputs": []
    }
  ],
  "metadata": {
    "colab": {
      "provenance": [],
      "include_colab_link": true
    },
    "kernelspec": {
      "display_name": "Python 3",
      "name": "python3"
    },
    "language_info": {
      "name": "python"
    }
  },
  "nbformat": 4,
  "nbformat_minor": 5
}